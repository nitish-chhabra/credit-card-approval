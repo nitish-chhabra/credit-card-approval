{
 "cells": [
  {
   "cell_type": "code",
   "execution_count": 2,
   "id": "849de222-dfec-4b6f-a3c7-993d7679d7fa",
   "metadata": {
    "collapsed": true,
    "jupyter": {
     "outputs_hidden": true
    }
   },
   "outputs": [],
   "source": [
    "A = [5,1,4,3,6,10,7,9,8]"
   ]
  },
  {
   "cell_type": "code",
   "execution_count": 12,
   "id": "1b051111-ead9-46b3-9573-0678035433b2",
   "metadata": {
    "collapsed": true,
    "jupyter": {
     "outputs_hidden": true
    }
   },
   "outputs": [
    {
     "name": "stdout",
     "output_type": "stream",
     "text": [
      "[0, 3, 3, 3, 3, 3, 3, 3, 3]\n",
      "[0, 5, 5, 5, 6, 10, 10, 10, 10]\n"
     ]
    }
   ],
   "source": [
    "min_array = [0]\n",
    "max_array = [0]\n",
    "\n",
    "# idy=2\n",
    "\n",
    "for idx, item in enumerate(A[1:]):\n",
    "#     idx =0\n",
    "    if idx == 0:\n",
    "        \n",
    "        max_array.append(max(A[:idx+1]))\n",
    "        min_array.append(min(A[idx+2:]))\n",
    "\n",
    "    else:\n",
    "#         idx=1\n",
    "        \n",
    "        if item > max_array[idx]:\n",
    "            max_array.append(item)\n",
    "        else:\n",
    "            max_array.append(max_array[idx])\n",
    "            \n",
    "            \n",
    "        if item == min_array[idx]:\n",
    "                min_array.append(min(A[idx+2:]))\n",
    "        else:\n",
    "            min_array.append(min_array[idx])\n",
    "\n",
    "print(min_array)\n",
    "print(max_array)\n",
    "    "
   ]
  },
  {
   "cell_type": "code",
   "execution_count": 14,
   "id": "53fecf28-ff8c-41d8-a193-831470704baf",
   "metadata": {
    "collapsed": true,
    "jupyter": {
     "outputs_hidden": true
    },
    "tags": []
   },
   "outputs": [
    {
     "ename": "SyntaxError",
     "evalue": "invalid syntax (<ipython-input-14-471de54d02a3>, line 2)",
     "output_type": "error",
     "traceback": [
      "\u001b[0;36m  File \u001b[0;32m\"<ipython-input-14-471de54d02a3>\"\u001b[0;36m, line \u001b[0;32m2\u001b[0m\n\u001b[0;31m    abc    3\u001b[0m\n\u001b[0m           ^\u001b[0m\n\u001b[0;31mSyntaxError\u001b[0m\u001b[0;31m:\u001b[0m invalid syntax\n"
     ]
    }
   ],
   "source": [
    "\n",
    "name , score\n",
    "abc    3\n",
    "sad    4"
   ]
  },
  {
   "cell_type": "code",
   "execution_count": null,
   "id": "bfcfd339-faaf-4d97-8f1b-7c70ac60e709",
   "metadata": {
    "collapsed": true,
    "jupyter": {
     "outputs_hidden": true
    },
    "tags": []
   },
   "outputs": [],
   "source": [
    "df \n",
    "\n",
    "for column_name in df.columns:\n",
    "   df.groupBy(column_name).agg(count('*').alias(\"count\")).sort(col(\"count\").desc()).show(20,False)"
   ]
  }
 ],
 "metadata": {
  "kernelspec": {
   "display_name": "Python 3",
   "language": "python",
   "name": "python3"
  },
  "language_info": {
   "codemirror_mode": {
    "name": "ipython",
    "version": 3
   },
   "file_extension": ".py",
   "mimetype": "text/x-python",
   "name": "python",
   "nbconvert_exporter": "python",
   "pygments_lexer": "ipython3",
   "version": "3.6.9"
  }
 },
 "nbformat": 4,
 "nbformat_minor": 5
}
